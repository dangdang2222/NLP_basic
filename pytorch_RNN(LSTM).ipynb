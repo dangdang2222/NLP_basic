{
  "nbformat": 4,
  "nbformat_minor": 0,
  "metadata": {
    "colab": {
      "provenance": [],
      "authorship_tag": "ABX9TyNPQJ1WCEUsFMTAUe18e62y",
      "include_colab_link": true
    },
    "kernelspec": {
      "name": "python3",
      "display_name": "Python 3"
    },
    "language_info": {
      "name": "python"
    }
  },
  "cells": [
    {
      "cell_type": "markdown",
      "metadata": {
        "id": "view-in-github",
        "colab_type": "text"
      },
      "source": [
        "<a href=\"https://colab.research.google.com/github/dangdang2222/NLP_basic/blob/main/pytorch_RNN(LSTM).ipynb\" target=\"_parent\"><img src=\"https://colab.research.google.com/assets/colab-badge.svg\" alt=\"Open In Colab\"/></a>"
      ]
    },
    {
      "cell_type": "markdown",
      "source": [
        "2D 텐서 (timesteps, input_size)\n",
        "\n",
        "3D 텐서 (batch_size, timesteps, input_size)"
      ],
      "metadata": {
        "id": "OMNjKNfMuTsb"
      }
    },
    {
      "cell_type": "code",
      "source": [
        "import torch\n",
        "import torch.nn as nn"
      ],
      "metadata": {
        "id": "JYxASQcZwVNL"
      },
      "execution_count": 6,
      "outputs": []
    },
    {
      "cell_type": "code",
      "source": [
        "input_size=5 #입력 크기\n",
        "hidden_size= 8 #은닉 상태 크기"
      ],
      "metadata": {
        "id": "pKFujVj0wXu3"
      },
      "execution_count": 8,
      "outputs": []
    },
    {
      "cell_type": "code",
      "source": [
        "inputs = torch.Tensor(1,10,5) #(batchsize, timesteps, inputsize) 10번의 시점동안 5차원의 입력 벡터"
      ],
      "metadata": {
        "id": "24GfGnBywZYA"
      },
      "execution_count": 9,
      "outputs": []
    },
    {
      "cell_type": "code",
      "source": [
        "cell = nn.RNN(input_size, hidden_size, batch_first=True)\n",
        "outputs, _status = cell(inputs)"
      ],
      "metadata": {
        "id": "B5XxnvaQworx"
      },
      "execution_count": 10,
      "outputs": []
    },
    {
      "cell_type": "code",
      "source": [
        "print(outputs.shape) #모든 시점의 은닉 상태"
      ],
      "metadata": {
        "colab": {
          "base_uri": "https://localhost:8080/"
        },
        "id": "bqb0i421wvXi",
        "outputId": "3a309106-5a7d-44a5-e4da-5d33944d4d73"
      },
      "execution_count": 11,
      "outputs": [
        {
          "output_type": "stream",
          "name": "stdout",
          "text": [
            "torch.Size([1, 10, 8])\n"
          ]
        }
      ]
    },
    {
      "cell_type": "markdown",
      "source": [
        "10번의 시점동안 8차원의 은닉상태가 출력"
      ],
      "metadata": {
        "id": "C8JMtEWNw_sQ"
      }
    },
    {
      "cell_type": "code",
      "source": [
        "print(_status.shape) #마지막 시점의 은닉 상태"
      ],
      "metadata": {
        "colab": {
          "base_uri": "https://localhost:8080/"
        },
        "id": "K2dGcrOsw4n5",
        "outputId": "3eb1d718-0d13-4945-b850-deb661b5d0f8"
      },
      "execution_count": 12,
      "outputs": [
        {
          "output_type": "stream",
          "name": "stdout",
          "text": [
            "torch.Size([1, 1, 8])\n"
          ]
        }
      ]
    },
    {
      "cell_type": "markdown",
      "source": [
        "---"
      ],
      "metadata": {
        "id": "3E6DCTanxD0L"
      }
    },
    {
      "cell_type": "code",
      "source": [
        "inputs = torch.Tensor(1,10,5)"
      ],
      "metadata": {
        "id": "h-3fAHUew5ps"
      },
      "execution_count": 13,
      "outputs": []
    },
    {
      "cell_type": "code",
      "source": [
        "cell = nn.RNN(input_size=5, hidden_size=8, num_layers=2, batch_first=True)\n",
        "outputs, _status = cell(inputs)\n",
        "print(outputs.shape) #마지막 층의 모든 시점의 은닉 상태\n",
        "print(_status.shape) #(층의 개수, 배치 크기, 은닉 상태 크기)"
      ],
      "metadata": {
        "colab": {
          "base_uri": "https://localhost:8080/"
        },
        "id": "k_DrpWXTxHXg",
        "outputId": "f3908d25-0fdc-4d7f-a34e-f8f235699734"
      },
      "execution_count": 16,
      "outputs": [
        {
          "output_type": "stream",
          "name": "stdout",
          "text": [
            "torch.Size([1, 10, 8])\n",
            "torch.Size([2, 1, 8])\n"
          ]
        }
      ]
    },
    {
      "cell_type": "markdown",
      "source": [
        "---\n",
        "양방향 RNN은 하나의 출력값을 예측하기 위해 기본적으로 두 개의 메모리 셀을 사용\n",
        "\n",
        "첫번째 메모리 셀: 앞 시점의 은닉 상태(Forward States)를 전달받아 현재의 은닉 상태를 계산\n",
        "\n",
        "두번째 메모리 셀: 뒤 시점의 은닉 상태(Backward States)를 전달 받아 현재의 은닉 상태를 계산\n",
        "\n",
        "두 개의 값 모두가 출력층에서 출력값을 예측하기 위해 사용\n",
        "\n",
        "\n",
        "**양방향 순환 신경망을 파이토치로 구현할 때는 nn.RNN()의 인자인 bidirectional에 값을 True로 전달**"
      ],
      "metadata": {
        "id": "qAkvsNhIxoLW"
      }
    },
    {
      "cell_type": "code",
      "source": [
        "inputs = torch.Tensor(1,10,5)\n",
        "cell = nn.RNN(input_size=5, hidden_size=8, num_layers=2, batch_first =True, bidirectional=True)\n",
        "outputs, _status=cell(inputs)"
      ],
      "metadata": {
        "id": "PcoJ1Xs8xNYq"
      },
      "execution_count": 18,
      "outputs": []
    },
    {
      "cell_type": "code",
      "source": [
        "print(outputs.shape) #(배치 크기, 시퀀스 길이, 은닉상태 크기 * bi(2))\n",
        "print(_status.shape) #(층의 개수*bi(2), 배치 크기, 은닉 상태 크기)"
      ],
      "metadata": {
        "colab": {
          "base_uri": "https://localhost:8080/"
        },
        "id": "jzpOiEBjyNLo",
        "outputId": "8d1aa31c-9c99-4670-e7ad-f87bb5f9eaa3"
      },
      "execution_count": 19,
      "outputs": [
        {
          "output_type": "stream",
          "name": "stdout",
          "text": [
            "torch.Size([1, 10, 16])\n",
            "torch.Size([4, 1, 8])\n"
          ]
        }
      ]
    },
    {
      "cell_type": "code",
      "source": [],
      "metadata": {
        "id": "6BghJHk6yTkE"
      },
      "execution_count": null,
      "outputs": []
    }
  ]
}